{
 "cells": [
  {
   "cell_type": "code",
   "execution_count": 6,
   "metadata": {},
   "outputs": [],
   "source": [
    "# disregard this, will delete later\n",
    "# import sys\n",
    "# print(sys.executable)\n",
    "# print(sys.path[:2])   # just to see where it’s looking\n",
    "\n",
    "\n",
    "# COVID-19 Tweet Sentiment Analysis\n",
    "# 1. Import necessary libraries\n",
    "import pandas as pd\n",
    "import re\n",
    "from sklearn.model_selection import train_test_split\n",
    "from sklearn.feature_extraction.text import TfidfVectorizer\n",
    "from sklearn.linear_model import LogisticRegression\n",
    "from sklearn.pipeline import Pipeline\n",
    "from sklearn.metrics import classification_report, confusion_matrix, mean_squared_error\n",
    "import matplotlib.pyplot as plt\n",
    "import seaborn as sns"
   ]
  },
  {
   "cell_type": "code",
   "execution_count": 7,
   "metadata": {},
   "outputs": [
    {
     "name": "stdout",
     "output_type": "stream",
     "text": [
      "(41157, 6)\n",
      "Sentiment\n",
      "Positive              11422\n",
      "Negative               9917\n",
      "Neutral                7713\n",
      "Extremely Positive     6624\n",
      "Extremely Negative     5481\n",
      "Name: count, dtype: int64\n"
     ]
    }
   ],
   "source": [
    "\n",
    "# 2. Load data and inspect\n",
    "df = pd.read_csv('Corona_NLP_train.csv', encoding='ISO-8859-1')\n",
    "print(df.shape)\n",
    "print(df['Sentiment'].value_counts())"
   ]
  },
  {
   "cell_type": "code",
   "execution_count": 8,
   "metadata": {},
   "outputs": [],
   "source": [
    "# 3. Preprocessing: remove URLs, punctuation, @'s to clean up the tweet\n",
    "def clean_tweet(text):\n",
    "    text = text.lower()\n",
    "    text = re.sub(r\"http\\S+|www\\.\\S+\", \"\", text)     \n",
    "    text = re.sub(r\"@\\w+\", \"\", text)                 \n",
    "    text = re.sub(r\"[^a-z0-9\\s]\", \"\", text)          \n",
    "    return text.strip()\n",
    "\n",
    "df['clean'] = df['OriginalTweet'].astype(str).apply(clean_tweet)"
   ]
  },
  {
   "cell_type": "code",
   "execution_count": 9,
   "metadata": {},
   "outputs": [],
   "source": [
    "\n",
    "# 4. Map string labels to numerics, to make it easier to categorize\n",
    "label_map = {\n",
    "    'Extremely Negative': 0,\n",
    "    'Negative': 1,\n",
    "    'Neutral': 2,\n",
    "    'Positive': 3,\n",
    "    'Extremely Positive': 4\n",
    "}\n",
    "df['label'] = df['Sentiment'].map(label_map)"
   ]
  },
  {
   "cell_type": "code",
   "execution_count": 10,
   "metadata": {},
   "outputs": [],
   "source": [
    "# 5. Validation testing\n",
    "X = df['clean']\n",
    "y = df['label']\n",
    "X_train, X_val, y_train, y_val = train_test_split(\n",
    "    X, y, test_size=0.2, stratify=y, random_state=42\n",
    ")"
   ]
  },
  {
   "cell_type": "code",
   "execution_count": null,
   "metadata": {},
   "outputs": [],
   "source": [
    "# 6. Build & train a pipeline to fit the training data\n",
    "pipeline = Pipeline([\n",
    "    ('tfidf', TfidfVectorizer(ngram_range=(1,2), max_features=15000)),\n",
    "    ('clf', LogisticRegression(multi_class='multinomial', solver='lbfgs',\n",
    "                               class_weight='balanced', max_iter=1000, random_state=42))\n",
    "])\n",
    "pipeline.fit(X_train, y_train)  \n"
   ]
  },
  {
   "cell_type": "code",
   "execution_count": null,
   "metadata": {},
   "outputs": [
    {
     "ename": "NameError",
     "evalue": "name 'MultinomialNB' is not defined",
     "output_type": "error",
     "traceback": [
      "\u001b[31m---------------------------------------------------------------------------\u001b[39m",
      "\u001b[31mNameError\u001b[39m                                 Traceback (most recent call last)",
      "\u001b[36mCell\u001b[39m\u001b[36m \u001b[39m\u001b[32mIn[11]\u001b[39m\u001b[32m, line 10\u001b[39m\n\u001b[32m      1\u001b[39m \u001b[38;5;66;03m# 6.5 creating seperate pipelines for Logisitc Regression and Naive Bayes\u001b[39;00m\n\u001b[32m      2\u001b[39m pipelines = {\n\u001b[32m      3\u001b[39m     \u001b[33m'\u001b[39m\u001b[33mLogistic Regression\u001b[39m\u001b[33m'\u001b[39m: Pipeline([\n\u001b[32m      4\u001b[39m         (\u001b[33m'\u001b[39m\u001b[33mtfidf\u001b[39m\u001b[33m'\u001b[39m, TfidfVectorizer(ngram_range=(\u001b[32m1\u001b[39m,\u001b[32m2\u001b[39m), max_features=\u001b[32m15000\u001b[39m)),\n\u001b[32m      5\u001b[39m         (\u001b[33m'\u001b[39m\u001b[33mclf\u001b[39m\u001b[33m'\u001b[39m, LogisticRegression(multi_class=\u001b[33m'\u001b[39m\u001b[33mmultinomial\u001b[39m\u001b[33m'\u001b[39m, solver=\u001b[33m'\u001b[39m\u001b[33mlbfgs\u001b[39m\u001b[33m'\u001b[39m,\n\u001b[32m      6\u001b[39m                                    class_weight=\u001b[33m'\u001b[39m\u001b[33mbalanced\u001b[39m\u001b[33m'\u001b[39m, max_iter=\u001b[32m1000\u001b[39m, random_state=\u001b[32m42\u001b[39m))\n\u001b[32m      7\u001b[39m     ]),\n\u001b[32m      8\u001b[39m     \u001b[33m'\u001b[39m\u001b[33mNaive Bayes\u001b[39m\u001b[33m'\u001b[39m: Pipeline([\n\u001b[32m      9\u001b[39m         (\u001b[33m'\u001b[39m\u001b[33mtfidf\u001b[39m\u001b[33m'\u001b[39m, TfidfVectorizer(ngram_range=(\u001b[32m1\u001b[39m,\u001b[32m2\u001b[39m), max_features=\u001b[32m15000\u001b[39m)),\n\u001b[32m---> \u001b[39m\u001b[32m10\u001b[39m         (\u001b[33m'\u001b[39m\u001b[33mclf\u001b[39m\u001b[33m'\u001b[39m, \u001b[43mMultinomialNB\u001b[49m())\n\u001b[32m     11\u001b[39m     ])\n\u001b[32m     12\u001b[39m }\n\u001b[32m     14\u001b[39m \u001b[38;5;66;03m# 7.5 Evauluate both pipelines\u001b[39;00m\n\u001b[32m     15\u001b[39m \u001b[38;5;28;01mfor\u001b[39;00m name, model \u001b[38;5;129;01min\u001b[39;00m pipelines.items():\n",
      "\u001b[31mNameError\u001b[39m: name 'MultinomialNB' is not defined"
     ]
    }
   ],
   "source": [
    "# 6.5 creating seperate pipelines for Logisitc Regression and Naive Bayes\n",
    "pipelines = {\n",
    "    'Logistic Regression': Pipeline([\n",
    "        ('tfidf', TfidfVectorizer(ngram_range=(1,2), max_features=15000)),\n",
    "        ('clf', LogisticRegression(multi_class='multinomial', solver='lbfgs',\n",
    "                                   class_weight='balanced', max_iter=1000, random_state=42))\n",
    "    ]),\n",
    "    'Naive Bayes': Pipeline([\n",
    "        ('tfidf', TfidfVectorizer(ngram_range=(1,2), max_features=15000)),\n",
    "        ('clf', MultinomialNB())\n",
    "    ])\n",
    "}\n",
    "\n",
    "# 7.5 Evauluate both pipelines\n",
    "for name, pipeline in pipelines.items():\n",
    "    print(f\"\\n=== {name} ===\")\n",
    "    pipeline.fit(X_train, y_train)\n",
    "    y_pred = pipeline.predict(X_val)\n",
    "\n",
    "    print(\"Classification Report:\")\n",
    "    print(classification_report(y_val, y_pred, target_names=label_map.keys()))\n",
    "\n",
    "    cm = confusion_matrix(y_val, y_pred)\n",
    "    plt.figure(figsize=(6,5))\n",
    "    sns.heatmap(cm, annot=True, fmt='d', cmap='Blues',\n",
    "                xticklabels=label_map.keys(), yticklabels=label_map.keys())\n",
    "    plt.title(f'Confusion Matrix: {name}')\n",
    "    plt.xlabel('Predicted')\n",
    "    plt.ylabel('True')\n",
    "    plt.xticks(rotation=45)\n",
    "    plt.yticks(rotation=45)\n",
    "    plt.tight_layout()\n",
    "    plt.show()\n",
    "\n",
    "    mse = mean_squared_error(y_val, y_pred)\n",
    "    print(f\"Validation MSE: {mse:.4f}\")"
   ]
  },
  {
   "cell_type": "code",
   "execution_count": null,
   "metadata": {},
   "outputs": [],
   "source": []
  },
  {
   "cell_type": "code",
   "execution_count": null,
   "metadata": {},
   "outputs": [],
   "source": [
    "# 7. Evaluate using the validation set\n",
    "y_pred = pipeline.predict(X_val)\n",
    "print(\"Classification Report:\\n\")\n",
    "print(classification_report(y_val, y_pred, target_names=label_map.keys()))"
   ]
  },
  {
   "cell_type": "code",
   "execution_count": null,
   "metadata": {},
   "outputs": [],
   "source": []
  },
  {
   "cell_type": "code",
   "execution_count": null,
   "metadata": {},
   "outputs": [],
   "source": [
    "# Confusion matrix\n",
    "cm = confusion_matrix(y_val, y_pred)\n",
    "plt.figure(figsize=(6,5))\n",
    "sns.heatmap(cm, annot=True, fmt='d', cmap='Blues',\n",
    "            xticklabels=label_map.keys(), yticklabels=label_map.keys())\n",
    "plt.ylabel('True')\n",
    "plt.xlabel('Predicted')\n",
    "plt.title('Confusion Matrix')\n",
    "plt.xticks(rotation=45)\n",
    "plt.yticks(rotation=45)\n",
    "plt.tight_layout()\n",
    "plt.show()"
   ]
  },
  {
   "cell_type": "code",
   "execution_count": null,
   "metadata": {},
   "outputs": [],
   "source": [
    "# 8. Compute Mean Squared Error\n",
    "mse = mean_squared_error(y_val, y_pred)\n",
    "print(f\"Validation MSE (ordinal labels): {mse:.4f}\")"
   ]
  },
  {
   "cell_type": "code",
   "execution_count": null,
   "metadata": {},
   "outputs": [],
   "source": []
  },
  {
   "cell_type": "code",
   "execution_count": null,
   "metadata": {},
   "outputs": [],
   "source": []
  }
 ],
 "metadata": {
  "kernelspec": {
   "display_name": "Python 3",
   "language": "python",
   "name": "python3"
  },
  "language_info": {
   "codemirror_mode": {
    "name": "ipython",
    "version": 3
   },
   "file_extension": ".py",
   "mimetype": "text/x-python",
   "name": "python",
   "nbconvert_exporter": "python",
   "pygments_lexer": "ipython3",
   "version": "3.13.1"
  }
 },
 "nbformat": 4,
 "nbformat_minor": 2
}

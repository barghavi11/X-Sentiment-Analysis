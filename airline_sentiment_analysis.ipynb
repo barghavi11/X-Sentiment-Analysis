{
 "cells": [
  {
   "cell_type": "code",
   "execution_count": 2,
   "metadata": {},
   "outputs": [],
   "source": [
    "import pandas as pd\n",
    "import re\n",
    "from sklearn.model_selection import train_test_split\n",
    "from sklearn.feature_extraction.text import TfidfVectorizer\n",
    "from sklearn.linear_model import LogisticRegression\n",
    "from sklearn.pipeline import Pipeline\n",
    "from sklearn.metrics import accuracy_score, classification_report"
   ]
  },
  {
   "cell_type": "code",
   "execution_count": 3,
   "metadata": {},
   "outputs": [
    {
     "name": "stdout",
     "output_type": "stream",
     "text": [
      "Validation Accuracy: 0.786\n",
      "              precision    recall  f1-score   support\n",
      "\n",
      "    negative       0.89      0.83      0.86      1376\n",
      "     neutral       0.58      0.71      0.64       465\n",
      "    positive       0.73      0.72      0.73       355\n",
      "\n",
      "    accuracy                           0.79      2196\n",
      "   macro avg       0.74      0.75      0.74      2196\n",
      "weighted avg       0.80      0.79      0.79      2196\n",
      "\n",
      "Test Accuracy: 0.791\n",
      "              precision    recall  f1-score   support\n",
      "\n",
      "    negative       0.89      0.84      0.86      1377\n",
      "     neutral       0.60      0.69      0.64       465\n",
      "    positive       0.72      0.74      0.73       354\n",
      "\n",
      "    accuracy                           0.79      2196\n",
      "   macro avg       0.73      0.76      0.74      2196\n",
      "weighted avg       0.80      0.79      0.79      2196\n",
      "\n"
     ]
    }
   ],
   "source": [
    "# 1. load dataset and preprocess text data by lowercasing, removing URLs, @s, and non-alphanumeric characters\n",
    "# Our dataset was downloaded from: https://www.kaggle.com/datasets/crowdflower/twitter-airline-sentiment\n",
    "df = pd.read_csv('Tweets.csv')   \n",
    "df['clean'] = (\n",
    "    df['text']\n",
    "      .str.lower()\n",
    "      .str.replace(r\"http\\S+|www\\.\\S+\", \"\", regex=True)\n",
    "      .str.replace(r\"@\\w+\", \"\",             regex=True)\n",
    "      .str.replace(r\"[^a-z0-9\\s]\", \"\",      regex=True)\n",
    "      .str.strip()\n",
    ")\n",
    "label_map = {'negative':0, 'neutral':1, 'positive':2}\n",
    "df['label'] = df['airline_sentiment'].map(label_map)\n",
    "\n",
    "# 2. 70/15/15 Split for train, validation, and test sets\n",
    "train, temp = train_test_split(df, test_size=0.30, stratify=df['label'], random_state=42)\n",
    "val, test  = train_test_split(temp, test_size=0.50, stratify=temp['label'], random_state=42)\n",
    "\n",
    "X_train, y_train = train['clean'], train['label']\n",
    "X_val,   y_val   = val  ['clean'], val  ['label']\n",
    "X_test,  y_test  = test ['clean'], test ['label']\n",
    "\n",
    "pipeline = Pipeline([\n",
    "    ('tfidf', TfidfVectorizer(\n",
    "        ngram_range=(1,2),\n",
    "        max_df=0.7,\n",
    "        min_df=3,\n",
    "        max_features=10000,\n",
    "        sublinear_tf=True\n",
    "    )),\n",
    "    ('clf', LogisticRegression(\n",
    "        C=1,\n",
    "        class_weight='balanced',\n",
    "        max_iter=5000,\n",
    "        random_state=42\n",
    "    ))\n",
    "])\n",
    "\n",
    "pipeline.fit(X_train, y_train)\n",
    "\n",
    "# 4. Validation metrics\n",
    "y_val_pred = pipeline.predict(X_val)\n",
    "print(f\"Validation Accuracy: {accuracy_score(y_val, y_val_pred):.3f}\")\n",
    "print(classification_report(y_val, y_val_pred, target_names=label_map.keys()))\n",
    "\n",
    "# 5. Test metrics\n",
    "y_test_pred = pipeline.predict(X_test)\n",
    "print(f\"Test Accuracy: {accuracy_score(y_test, y_test_pred):.3f}\")\n",
    "print(classification_report(y_test, y_test_pred, target_names=label_map.keys()))\n"
   ]
  },
  {
   "cell_type": "code",
   "execution_count": 16,
   "metadata": {},
   "outputs": [
    {
     "data": {
      "image/png": "[encoded data removed]",
      "text/plain": [
       "<Figure size 600x500 with 2 Axes>"
      ]
     },
     "metadata": {},
     "output_type": "display_data"
    },
    {
     "name": "stdout",
     "output_type": "stream",
     "text": [
      "Example correctly classified tweet:\n",
      "\n",
      "Tweet:  @AmericanAir Way to suck at customer service, Dallas is trapped in an ice storm but you didn't Cancelled Flight 7am flight &amp; been on hold all day.\n",
      "True:   negative\n",
      "Predicted: negative\n"
     ]
    }
   ],
   "source": [
    "train = train.reset_index(drop=True)\n",
    "val   = val.reset_index(drop=True)\n",
    "test  = test.reset_index(drop=True)\n",
    "\n",
    "y_test = test['label'].values\n",
    "\n",
    "import numpy as np\n",
    "import matplotlib.pyplot as plt\n",
    "import seaborn as sns\n",
    "from sklearn.metrics import confusion_matrix, precision_recall_fscore_support\n",
    "\n",
    "\n",
    "y_test_pred = pipeline.predict(X_test)\n",
    "\n",
    "# confusion matrix\n",
    "cm = confusion_matrix(y_test, y_test_pred, labels=[0,1,2])\n",
    "labels = ['negative','neutral','positive']\n",
    "\n",
    "plt.figure(figsize=(6,5))\n",
    "sns.heatmap(cm, annot=True, fmt='d', cmap='Blues',\n",
    "            xticklabels=labels, yticklabels=labels)\n",
    "plt.xlabel('Predicted')\n",
    "plt.ylabel('True')\n",
    "plt.title('Confusion Matrix on Test Set')\n",
    "plt.show()\n",
    "\n",
    "\n",
    "\n",
    "# map back ints to labels\n",
    "id2label = {v:k for k,v in label_map.items()}\n",
    "\n",
    "# find a correctly classified example and display \n",
    "correct_idxs = [i for i,(t,p) in enumerate(zip(y_test, y_test_pred)) if t==p]\n",
    "if correct_idxs:\n",
    "    idx = np.random.choice(correct_idxs)\n",
    "    tweet = test.iloc[idx]['text']\n",
    "    true_lbl = id2label[y_test[idx]]\n",
    "    pred_lbl = id2label[y_test_pred[idx]]\n",
    "    print(\"Example correctly classified tweet:\\n\")\n",
    "    print(f\"Tweet:  {tweet}\")\n",
    "    print(f\"True:   {true_lbl}\")\n",
    "    print(f\"Predicted: {pred_lbl}\")\n",
    "else:\n",
    "    print(\"No correctly classified examples found.\")\n"
   ]
  },
  {
   "cell_type": "code",
   "execution_count": null,
   "metadata": {},
   "outputs": [],
   "source": []
  },
  {
   "cell_type": "code",
   "execution_count": null,
   "metadata": {},
   "outputs": [],
   "source": []
  }
 ],
 "metadata": {
  "kernelspec": {
   "display_name": "Python (x-sentiment .venv)",
   "language": "python",
   "name": "x_sentiment_env"
  },
  "language_info": {
   "codemirror_mode": {
    "name": "ipython",
    "version": 3
   },
   "file_extension": ".py",
   "mimetype": "text/x-python",
   "name": "python",
   "nbconvert_exporter": "python",
   "pygments_lexer": "ipython3",
   "version": "3.13.1"
  }
 },
 "nbformat": 4,
 "nbformat_minor": 2
}

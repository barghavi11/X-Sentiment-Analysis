{
 "cells": [
  {
   "cell_type": "code",
   "execution_count": null,
   "metadata": {},
   "outputs": [],
   "source": [
    "import pandas as pd\n",
    "import re\n",
    "from sklearn.model_selection import train_test_split\n",
    "from sklearn.feature_extraction.text import TfidfVectorizer\n",
    "from sklearn.linear_model import LogisticRegression\n",
    "from sklearn.metrics import accuracy_score, classification_report"
   ]
  },
  {
   "cell_type": "code",
   "execution_count": 21,
   "metadata": {},
   "outputs": [
    {
     "name": "stdout",
     "output_type": "stream",
     "text": [
      "Validation Accuracy: 0.786\n",
      "              precision    recall  f1-score   support\n",
      "\n",
      "    negative       0.89      0.83      0.86      1376\n",
      "     neutral       0.58      0.71      0.64       465\n",
      "    positive       0.73      0.72      0.73       355\n",
      "\n",
      "    accuracy                           0.79      2196\n",
      "   macro avg       0.74      0.75      0.74      2196\n",
      "weighted avg       0.80      0.79      0.79      2196\n",
      "\n",
      "Test Accuracy: 0.791\n",
      "              precision    recall  f1-score   support\n",
      "\n",
      "    negative       0.89      0.84      0.86      1377\n",
      "     neutral       0.60      0.69      0.64       465\n",
      "    positive       0.72      0.74      0.73       354\n",
      "\n",
      "    accuracy                           0.79      2196\n",
      "   macro avg       0.73      0.76      0.74      2196\n",
      "weighted avg       0.80      0.79      0.79      2196\n",
      "\n"
     ]
    }
   ],
   "source": [
    "# 1. load dataset and preprocess text data by lowercasing, removing URLs, @s, and non-alphanumeric characters\n",
    "# Our dataset was downloaded from: https://www.kaggle.com/datasets/crowdflower/twitter-airline-sentiment\n",
    "df = pd.read_csv('Tweets.csv')   \n",
    "df['clean'] = (\n",
    "    df['text']\n",
    "      .str.lower()\n",
    "      .str.replace(r\"http\\S+|www\\.\\S+\", \"\", regex=True)\n",
    "      .str.replace(r\"@\\w+\", \"\",             regex=True)\n",
    "      .str.replace(r\"[^a-z0-9\\s]\", \"\",      regex=True)\n",
    "      .str.strip()\n",
    ")\n",
    "label_map = {'negative':0, 'neutral':1, 'positive':2}\n",
    "df['label'] = df['airline_sentiment'].map(label_map)\n",
    "\n",
    "# 2. 70/15/15 Split for train, validation, and test sets\n",
    "train, temp = train_test_split(df, test_size=0.30, stratify=df['label'], random_state=42)\n",
    "val, test  = train_test_split(temp, test_size=0.50, stratify=temp['label'], random_state=42)\n",
    "\n",
    "X_train, y_train = train['clean'], train['label']\n",
    "X_val,   y_val   = val  ['clean'], val  ['label']\n",
    "X_test,  y_test  = test ['clean'], test ['label']\n",
    "\n",
    "# 3. Build & train pipeline that includes TF-IDF and Logistic Regression\n",
    "pipeline = Pipeline([\n",
    "    ('tfidf', TfidfVectorizer(\n",
    "        ngram_range=(1,2),\n",
    "        max_df=0.7,\n",
    "        min_df=3,\n",
    "        max_features=10000,\n",
    "        sublinear_tf=True\n",
    "    )),\n",
    "    ('clf', LogisticRegression(\n",
    "        C=1,\n",
    "        class_weight='balanced',\n",
    "        max_iter=5000,\n",
    "        random_state=42\n",
    "    ))\n",
    "])\n",
    "\n",
    "pipeline.fit(X_train, y_train)\n",
    "\n",
    "# 4. Validation metrics\n",
    "y_val_pred = pipeline.predict(X_val)\n",
    "print(f\"Validation Accuracy: {accuracy_score(y_val, y_val_pred):.3f}\")\n",
    "print(classification_report(y_val, y_val_pred, target_names=label_map.keys()))\n",
    "\n",
    "# 5. Test metrics\n",
    "y_test_pred = pipeline.predict(X_test)\n",
    "print(f\"Test Accuracy: {accuracy_score(y_test, y_test_pred):.3f}\")\n",
    "print(classification_report(y_test, y_test_pred, target_names=label_map.keys()))\n"
   ]
  },
  {
   "cell_type": "code",
   "execution_count": null,
   "metadata": {},
   "outputs": [],
   "source": []
  }
 ],
 "metadata": {
  "kernelspec": {
   "display_name": "Python (x-sentiment_env)",
   "language": "python",
   "name": "x_sentiment_env"
  },
  "language_info": {
   "codemirror_mode": {
    "name": "ipython",
    "version": 3
   },
   "file_extension": ".py",
   "mimetype": "text/x-python",
   "name": "python",
   "nbconvert_exporter": "python",
   "pygments_lexer": "ipython3",
   "version": "3.13.1"
  }
 },
 "nbformat": 4,
 "nbformat_minor": 2
}
